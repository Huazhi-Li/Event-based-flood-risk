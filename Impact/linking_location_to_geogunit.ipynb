{
 "cells": [
  {
   "cell_type": "code",
   "execution_count": 7,
   "id": "2599d70b-11f1-4fec-835d-ed61336d0bb6",
   "metadata": {},
   "outputs": [],
   "source": [
    "import os\n",
    "import sys\n",
    "import numpy as np\n",
    "import pandas as pd\n",
    "import xarray as xr"
   ]
  },
  {
   "cell_type": "code",
   "execution_count": 18,
   "id": "566af319-a775-40b0-bb80-452011ef6c92",
   "metadata": {},
   "outputs": [],
   "source": [
    "path =  '/projects/0/FWC2/Spatial_dependence/Paper2'\n",
    "geounit = 107\n",
    "rps = [2,5,10,25,50,100,250,500,1000]\n",
    "i = int(sys.argv[1])\n",
    "rp = rps[i]"
   ]
  },
  {
   "cell_type": "code",
   "execution_count": 25,
   "id": "9a03f69b-7161-424a-84dd-17773bc142d5",
   "metadata": {},
   "outputs": [],
   "source": [
    "# Inuput file locations\n",
    "src_station_loc = os.path.join(path,'Hazard/Source_station/src_station_rp1000_globe.nc')\n",
    "dmg_file_loc = os.path.join(path, 'Impact/GLOFRIS')\n",
    "geo_loc = os.path.join(path,'Geogunit/geogunit_107_all.nc')\n",
    "\n",
    "# Read file\n",
    "src_rp1000_file = xr.load_dataset(src_station_loc)\n",
    "src_rp1000 = src_rp1000_file.src.values\n",
    "geo_globe = xr.load_dataset(geo_loc)\n",
    "geo = geo_globe.Geogunits.values\n",
    "ds_geo_station = pd.read_pickle(os.path.join(path,'Station_geogunit107/geogunit_station_globe.pkl'))\n",
    "ds_station_geo = pd.read_pickle(os.path.join(path,'Station_geogunit107/station_geoguint_globe.pkl'))"
   ]
  },
  {
   "cell_type": "code",
   "execution_count": 27,
   "id": "4315ef5e-2405-48c2-9f2b-d30f4720b30d",
   "metadata": {},
   "outputs": [
    {
     "name": "stdout",
     "output_type": "stream",
     "text": [
      "0\n",
      "14\n",
      "15\n",
      "16\n",
      "18\n",
      "20\n",
      "21\n",
      "22\n",
      "23\n",
      "24\n",
      "25\n",
      "26\n",
      "27\n",
      "28\n",
      "29\n",
      "30\n",
      "31\n",
      "41\n",
      "42\n",
      "44\n",
      "45\n",
      "46\n",
      "48\n",
      "49\n",
      "50\n",
      "51\n",
      "52\n",
      "53\n",
      "55\n",
      "58\n",
      "59\n",
      "60\n",
      "61\n",
      "62\n",
      "63\n",
      "64\n",
      "65\n",
      "66\n",
      "67\n",
      "68\n",
      "69\n",
      "70\n",
      "71\n",
      "72\n",
      "73\n",
      "74\n",
      "75\n",
      "76\n",
      "77\n",
      "78\n",
      "79\n",
      "80\n",
      "81\n",
      "82\n",
      "83\n",
      "84\n",
      "85\n"
     ]
    },
    {
     "ename": "KeyboardInterrupt",
     "evalue": "",
     "output_type": "error",
     "traceback": [
      "\u001b[0;31m---------------------------------------------------------------------------\u001b[0m",
      "\u001b[0;31mKeyboardInterrupt\u001b[0m                         Traceback (most recent call last)",
      "Cell \u001b[0;32mIn[27], line 20\u001b[0m\n\u001b[1;32m     17\u001b[0m st \u001b[38;5;241m=\u001b[39m sts[i]\n\u001b[1;32m     19\u001b[0m \u001b[38;5;66;03m# calculate the total damage of this station\u001b[39;00m\n\u001b[0;32m---> 20\u001b[0m dmg_total \u001b[38;5;241m=\u001b[39m dmg[\u001b[43mnp\u001b[49m\u001b[38;5;241;43m.\u001b[39;49m\u001b[43mwhere\u001b[49m\u001b[43m(\u001b[49m\u001b[43msrc\u001b[49m\u001b[38;5;241;43m==\u001b[39;49m\u001b[43mst\u001b[49m\u001b[43m)\u001b[49m]\u001b[38;5;241m.\u001b[39msum()\n\u001b[1;32m     22\u001b[0m \u001b[38;5;28;01mif\u001b[39;00m dmg_total \u001b[38;5;241m==\u001b[39m \u001b[38;5;241m0\u001b[39m:\n\u001b[1;32m     23\u001b[0m     perc\u001b[38;5;241m.\u001b[39mappend([\u001b[38;5;241m0.0\u001b[39m])\n",
      "File \u001b[0;32m<__array_function__ internals>:180\u001b[0m, in \u001b[0;36mwhere\u001b[0;34m(*args, **kwargs)\u001b[0m\n",
      "\u001b[0;31mKeyboardInterrupt\u001b[0m: "
     ]
    }
   ],
   "source": [
    "sts = ds_station_geo.iloc[:,0]\n",
    "df_dmg = pd.DataFrame(index=range(len(sts)),columns = ['Station','Dmg_perc'])\n",
    "df_dmg['Station'] = sts\n",
    "src = src_rp1000.copy()\n",
    "\n",
    "# read damages\n",
    "dmg_globe = xr.load_dataset(os.path.join(dmg_file_loc,'inuncoast_historical_nosub_hist_rp{:04d}_0_Built-up_Area.nc').format(rp))\n",
    "dmg = dmg_globe.Impact_Results.values # clip to the basin\n",
    "\n",
    "# Damage percentage file\n",
    "perc = []\n",
    "\n",
    "for i in range(len(sts)):\n",
    "    \n",
    "    st = sts[i]\n",
    "    \n",
    "    # calculate the total damage of this station\n",
    "    dmg_total = dmg[np.where(src==st)].sum()\n",
    "    \n",
    "    if dmg_total == 0:\n",
    "        perc.append([0.0])\n",
    "        continue\n",
    "    \n",
    "    # get all units affected by this station\n",
    "    units = ds_station_geo.iloc[i,1]\n",
    "    \n",
    "    dmg_perc = []\n",
    "    \n",
    "    for unit in units:\n",
    "        # Get the points where both files show positive values\n",
    "        r_geo, c_geo = np.where(geo==unit)\n",
    "        geo_points = np.vstack((r_geo, c_geo)).T\n",
    "        r_src, c_src = np.where(src==st)\n",
    "        src_points = np.vstack((r_src, c_src)).T\n",
    "    \n",
    "        # Find the geo unit points that are intersected with the station-location points\n",
    "        set_y = set(map(tuple, geo_points))\n",
    "        idx = [tuple(point) in set_y for point in src_points]\n",
    "        com_points = src_points[idx]\n",
    "        r_com, c_com = com_points[:,0], com_points[:,1]\n",
    "        \n",
    "        dmg_unit = dmg[r_com, c_com].sum()\n",
    "        dmg_perc.append(dmg_unit/dmg_total)\n",
    "    \n",
    "    perc.append(dmg_perc)\n",
    "    \n",
    "df_dmg.iloc[:,1] = perc\n",
    "df_dmg.to_pickle(os.path.join(path,'Station_geogunit107/dmg_perc_rp{:04d}_globe.pkl'.format(rp))"
   ]
  },
  {
   "cell_type": "code",
   "execution_count": 28,
   "id": "722e550a-c98d-4df4-9d00-9bf49ab2330a",
   "metadata": {},
   "outputs": [
    {
     "data": {
      "text/plain": [
       "1000"
      ]
     },
     "execution_count": 28,
     "metadata": {},
     "output_type": "execute_result"
    }
   ],
   "source": [
    "rps[8]"
   ]
  },
  {
   "cell_type": "code",
   "execution_count": null,
   "id": "1fa2ab5a-5c39-48f1-80d2-a59f00419f30",
   "metadata": {},
   "outputs": [],
   "source": []
  }
 ],
 "metadata": {
  "kernelspec": {
   "display_name": "Python 3 (ipykernel)",
   "language": "python",
   "name": "python3"
  },
  "language_info": {
   "codemirror_mode": {
    "name": "ipython",
    "version": 3
   },
   "file_extension": ".py",
   "mimetype": "text/x-python",
   "name": "python",
   "nbconvert_exporter": "python",
   "pygments_lexer": "ipython3",
   "version": "3.11.5"
  }
 },
 "nbformat": 4,
 "nbformat_minor": 5
}
